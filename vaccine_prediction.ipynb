{
 "cells": [
  {
   "cell_type": "code",
   "execution_count": null,
   "id": "90767c5a",
   "metadata": {},
   "outputs": [],
   "source": [
    "import pandas as pd\n",
    "import numpy as np\n",
    "from sklearn.model_selection import train_test_split, GridSearchCV\n",
    "from sklearn.preprocessing import OneHotEncoder, StandardScaler\n",
    "from sklearn.compose import ColumnTransformer\n",
    "from sklearn.pipeline import Pipeline\n",
    "from sklearn.impute import SimpleImputer\n",
    "from sklearn.ensemble import RandomForestClassifier\n",
    "from sklearn.metrics import roc_auc_score"
   ]
  },
  {
   "cell_type": "code",
   "execution_count": null,
   "id": "926e56c0",
   "metadata": {},
   "outputs": [],
   "source": [
    "# Load the data\n",
    "data = pd.read_csv('train.csv')\n",
    "test_data = pd.read_csv('test.csv')\n",
    "\n",
    "# Separate features and target variables\n",
    "X = data.drop(columns=['respondent_id', 'xyz_vaccine', 'seasonal_vaccine'])\n",
    "y_xyz = data['xyz_vaccine']\n",
    "y_seasonal = data['seasonal_vaccine']\n",
    "test_ids = test_data['respondent_id']\n",
    "X_test = test_data.drop(columns=['respondent_id'])\n",
    "\n",
    "# Identify categorical and numerical columns\n",
    "categorical_cols = X.select_dtypes(include=['object']).columns\n",
    "numerical_cols = X.select_dtypes(exclude=['object']).columns"
   ]
  },
  {
   "cell_type": "code",
   "execution_count": null,
   "id": "a1e61ae6",
   "metadata": {},
   "outputs": [],
   "source": [
    "# Preprocessing pipelines\n",
    "numerical_transformer = Pipeline(steps=[\n",
    "    ('imputer', SimpleImputer(strategy='median')),\n",
    "    ('scaler', StandardScaler())\n",
    "])\n",
    "\n",
    "categorical_transformer = Pipeline(steps=[\n",
    "    ('imputer', SimpleImputer(strategy='most_frequent')),\n",
    "    ('onehot', OneHotEncoder(handle_unknown='ignore'))\n",
    "])\n",
    "\n",
    "preprocessor = ColumnTransformer(\n",
    "    transformers=[\n",
    "        ('num', numerical_transformer, numerical_cols),\n",
    "        ('cat', categorical_transformer, categorical_cols)\n",
    "    ])"
   ]
  },
  {
   "cell_type": "code",
   "execution_count": null,
   "id": "cce1de1c",
   "metadata": {},
   "outputs": [],
   "source": [
    "# Split the data\n",
    "X_train, X_val, y_train_xyz, y_val_xyz = train_test_split(X, y_xyz, test_size=0.2, random_state=42)\n",
    "_, _, y_train_seasonal, y_val_seasonal = train_test_split(X, y_seasonal, test_size=0.2, random_state=42)"
   ]
  },
  {
   "cell_type": "code",
   "execution_count": null,
   "id": "81fdd07e",
   "metadata": {},
   "outputs": [],
   "source": [
    "# Define the models\n",
    "model_xyz = Pipeline(steps=[\n",
    "    ('preprocessor', preprocessor),\n",
    "    ('classifier', RandomForestClassifier())\n",
    "])\n",
    "\n",
    "model_seasonal = Pipeline(steps=[\n",
    "    ('preprocessor', preprocessor),\n",
    "    ('classifier', RandomForestClassifier())\n",
    "])\n",
    "\n",
    "# Hyperparameter tuning (example for RandomForest, adjust as needed)\n",
    "param_grid = {\n",
    "    'classifier__n_estimators': [100, 200],\n",
    "    'classifier__max_depth': [None, 10, 20]\n",
    "}\n",
    "\n",
    "search_xyz = GridSearchCV(model_xyz, param_grid, cv=5, scoring='roc_auc')\n",
    "search_seasonal = GridSearchCV(model_seasonal, param_grid, cv=5, scoring='roc_auc')\n",
    "\n",
    "search_xyz.fit(X_train, y_train_xyz)\n",
    "search_seasonal.fit(X_train, y_train_seasonal)\n",
    "\n",
    "# Best models\n",
    "best_model_xyz = search_xyz.best_estimator_\n",
    "best_model_seasonal = search_seasonal.best_estimator_"
   ]
  },
  {
   "cell_type": "code",
   "execution_count": null,
   "id": "c08af0cb",
   "metadata": {},
   "outputs": [],
   "source": [
    "# Predictions on validation set\n",
    "y_val_pred_xyz = best_model_xyz.predict_proba(X_val)[:, 1]\n",
    "y_val_pred_seasonal = best_model_seasonal.predict_proba(X_val)[:, 1]\n",
    "\n",
    "# Calculate ROC AUC\n",
    "roc_auc_xyz = roc_auc_score(y_val_xyz, y_val_pred_xyz)\n",
    "roc_auc_seasonal = roc_auc_score(y_val_seasonal, y_val_pred_seasonal)\n",
    "mean_roc_auc = np.mean([roc_auc_xyz, roc_auc_seasonal])\n",
    "\n",
    "print(f\"Mean ROC AUC: {mean_roc_auc}\")"
   ]
  },
  {
   "cell_type": "code",
   "execution_count": null,
   "id": "b4da06a9",
   "metadata": {},
   "outputs": [],
   "source": [
    "# Predictions on test set\n",
    "test_pred_xyz = best_model_xyz.predict_proba(X_test)[:, 1]\n",
    "test_pred_seasonal = best_model_seasonal.predict_proba(X_test)[:, 1]\n",
    "\n",
    "# Prepare submission file\n",
    "submission = pd.DataFrame({\n",
    "    'respondent_id': test_ids,\n",
    "    'xyz_vaccine': test_pred_xyz,\n",
    "    'seasonal_vaccine': test_pred_seasonal\n",
    "})\n",
    "\n",
    "submission.to_csv('submission.csv', index=False)"
   ]
  }
 ],
 "metadata": {},
 "nbformat": 4,
 "nbformat_minor": 5
}
